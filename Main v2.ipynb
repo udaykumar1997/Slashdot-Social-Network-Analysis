{
 "cells": [
  {
   "attachments": {},
   "cell_type": "markdown",
   "id": "b124deb3",
   "metadata": {},
   "source": [
    "# This file attempts to perform Social Network Analysis on the ENTIRE dataset, as opposed to partial dataset in v1."
   ]
  },
  {
   "cell_type": "code",
   "execution_count": null,
   "id": "19e02dba",
   "metadata": {},
   "outputs": [],
   "source": [
    "import pandas as pd\n",
    "import numpy as np\n",
    "import networkx as nx\n",
    "import matplotlib.pyplot as plt\n",
    "import os\n",
    "import random"
   ]
  },
  {
   "cell_type": "code",
   "execution_count": null,
   "id": "a7e14ecb",
   "metadata": {},
   "outputs": [],
   "source": [
    "file_path = \"soc-Slashdot0902.txt\"\n",
    "subset_percentage = 40\n",
    "data = []"
   ]
  },
  {
   "cell_type": "code",
   "execution_count": null,
   "id": "4c8abd95",
   "metadata": {},
   "outputs": [],
   "source": [
    "with open(file_path, 'r') as f:\n",
    "    # Skip the first 4 lines (header)\n",
    "    for _ in range(4):\n",
    "        next(f)\n",
    "\n",
    "    # Read and process lines, selecting a percentage randomly\n",
    "    for line in f:\n",
    "        if random.random() < subset_percentage:\n",
    "            source, target = map(int, line.strip().split(\"\\t\"))\n",
    "            data.append({\"FromNodeId\": source, \"ToNodeId\": target})"
   ]
  },
  {
   "attachments": {},
   "cell_type": "markdown",
   "id": "c2a8385c",
   "metadata": {},
   "source": [
    "## Preprocessing and creation of a NetworkX directed graph"
   ]
  },
  {
   "cell_type": "code",
   "execution_count": null,
   "id": "17f4386a",
   "metadata": {},
   "outputs": [],
   "source": [
    "# Convert the list of dictionaries to a pandas DataFrame\n",
    "data = pd.DataFrame(data)\n",
    "\n",
    "# Display the first few rows\n",
    "print(data.head())"
   ]
  },
  {
   "cell_type": "code",
   "execution_count": null,
   "id": "3d3187d0",
   "metadata": {},
   "outputs": [],
   "source": [
    "# Create a directed graph from the DataFrame\n",
    "G = nx.from_pandas_edgelist(data, source=\"FromNodeId\", target=\"ToNodeId\", create_using=nx.DiGraph())"
   ]
  },
  {
   "attachments": {},
   "cell_type": "markdown",
   "id": "371389cd",
   "metadata": {},
   "source": [
    "## Some Exploratory Data Analysis (EDA) on the graph"
   ]
  },
  {
   "cell_type": "code",
   "execution_count": null,
   "id": "ba0fdb9e",
   "metadata": {},
   "outputs": [],
   "source": [
    "# Basic EDA\n",
    "print(f\"Number of nodes: {G.number_of_nodes()}\")\n",
    "print(f\"Number of edges: {G.number_of_edges()}\")"
   ]
  },
  {
   "cell_type": "code",
   "execution_count": null,
   "id": "0be6071a",
   "metadata": {},
   "outputs": [],
   "source": [
    "# Degree distributions\n",
    "in_degrees = [d for n, d in G.in_degree()]\n",
    "out_degrees = [d for n, d in G.out_degree()]"
   ]
  },
  {
   "cell_type": "code",
   "execution_count": null,
   "id": "c9ad461f",
   "metadata": {},
   "outputs": [],
   "source": [
    "print(f\"Average in-degree: {np.mean(in_degrees):.2f}\")\n",
    "print(f\"Average out-degree: {np.mean(out_degrees):.2f}\")"
   ]
  },
  {
   "cell_type": "code",
   "execution_count": null,
   "id": "d20fba13",
   "metadata": {},
   "outputs": [],
   "source": [
    "# Plot degree distributions\n",
    "plt.hist(in_degrees, bins=50, log=True)\n",
    "plt.title(\"In-degree Distribution\")\n",
    "plt.xlabel(\"In-degree\")\n",
    "plt.ylabel(\"Frequency\")\n",
    "plt.savefig(\"in_degree_distribution.png\", dpi=300,bbox_inches='tight')\n",
    "plt.show()"
   ]
  },
  {
   "cell_type": "code",
   "execution_count": null,
   "id": "1e50e511",
   "metadata": {},
   "outputs": [],
   "source": [
    "plt.hist(out_degrees, bins=50, log=True)\n",
    "plt.title(\"Out-degree Distribution\")\n",
    "plt.xlabel(\"Out-degree\")\n",
    "plt.ylabel(\"Frequency\")\n",
    "plt.savefig('out_degree_distribution.png', dpi=300,bbox_inches='tight')\n",
    "plt.show()"
   ]
  },
  {
   "attachments": {},
   "cell_type": "markdown",
   "id": "c4da8ff1",
   "metadata": {},
   "source": [
    "## Detection of communities using the Louvain method"
   ]
  },
  {
   "cell_type": "code",
   "execution_count": null,
   "id": "446bd165",
   "metadata": {},
   "outputs": [],
   "source": [
    "import community as community_louvain\n",
    "from community import best_partition"
   ]
  },
  {
   "cell_type": "code",
   "execution_count": null,
   "id": "3561da08",
   "metadata": {},
   "outputs": [],
   "source": [
    "undirected_G = G.to_undirected()\n",
    "partition = community_louvain.best_partition(undirected_G)"
   ]
  },
  {
   "cell_type": "code",
   "execution_count": null,
   "id": "4491ddc4",
   "metadata": {},
   "outputs": [],
   "source": [
    "# Add community labels as node attributes\n",
    "nx.set_node_attributes(G, partition, \"community\")"
   ]
  },
  {
   "attachments": {},
   "cell_type": "markdown",
   "id": "94369685",
   "metadata": {},
   "source": [
    "## Computing centrality measures for the nodes in the graph"
   ]
  },
  {
   "cell_type": "code",
   "execution_count": null,
   "id": "7cb03662",
   "metadata": {},
   "outputs": [],
   "source": [
    "degree_centrality = nx.degree_centrality(G)"
   ]
  },
  {
   "attachments": {},
   "cell_type": "markdown",
   "id": "bb2574fb",
   "metadata": {},
   "source": [
    "Disclaimer: the following block of code could get compute intensive, execute with vaution"
   ]
  },
  {
   "cell_type": "code",
   "execution_count": null,
   "id": "64221d12",
   "metadata": {},
   "outputs": [],
   "source": [
    "betweenness_centrality = nx.betweenness_centrality(G)"
   ]
  },
  {
   "cell_type": "code",
   "execution_count": null,
   "id": "28c8a59d",
   "metadata": {},
   "outputs": [],
   "source": [
    "closeness_centrality = nx.closeness_centrality(G)"
   ]
  },
  {
   "cell_type": "code",
   "execution_count": null,
   "id": "1ac78825",
   "metadata": {},
   "outputs": [],
   "source": [
    "eigenvector_centrality = nx.eigenvector_centrality(G)"
   ]
  },
  {
   "cell_type": "code",
   "execution_count": null,
   "id": "7d2e1b69",
   "metadata": {},
   "outputs": [],
   "source": [
    "# Add centrality measures as node attributes\n",
    "nx.set_node_attributes(G, degree_centrality, \"degree_centrality\")\n",
    "nx.set_node_attributes(G, betweenness_centrality, \"betweenness_centrality\")\n",
    "nx.set_node_attributes(G, closeness_centrality, \"closeness_centrality\")\n",
    "nx.set_node_attributes(G, eigenvector_centrality, \"eigenvector_centrality\")"
   ]
  },
  {
   "cell_type": "code",
   "execution_count": null,
   "id": "15b5fa2e",
   "metadata": {},
   "outputs": [],
   "source": [
    "# Visualize the graph\n",
    "pos = nx.spring_layout(G, seed=42)\n",
    "node_color = [partition[node] for node in G.nodes()]\n"
   ]
  },
  {
   "attachments": {},
   "cell_type": "markdown",
   "id": "feb58c10",
   "metadata": {},
   "source": [
    "## General Visualization of the graph"
   ]
  },
  {
   "cell_type": "code",
   "execution_count": null,
   "id": "6d27ba58",
   "metadata": {},
   "outputs": [],
   "source": [
    "\n",
    "plt.figure(figsize=(10, 10))\n",
    "nx.draw(G, pos, node_size=50, node_color=node_color, with_labels=False, alpha=0.5)\n",
    "plt.title(\"General Visualization of the graph\")\n",
    "plt.savefig('v-General Visualization of the graph.png', dpi=400, bbox_inches='tight')\n",
    "plt.show()\n"
   ]
  },
  {
   "attachments": {},
   "cell_type": "markdown",
   "id": "e9ffa747",
   "metadata": {},
   "source": [
    "## Basic network visualization with node labels"
   ]
  },
  {
   "cell_type": "code",
   "execution_count": null,
   "id": "51e117fa",
   "metadata": {},
   "outputs": [],
   "source": [
    "nx.draw(G, pos, node_size=20, node_color=node_color, with_labels=True, alpha=0.5)"
   ]
  },
  {
   "attachments": {},
   "cell_type": "markdown",
   "id": "eec30c82",
   "metadata": {},
   "source": [
    "## Network visualization with different node sizes based on degree centrality"
   ]
  },
  {
   "cell_type": "code",
   "execution_count": null,
   "id": "6aff027f",
   "metadata": {},
   "outputs": [],
   "source": [
    "node_size = [degree_centrality[node] * 5000 for node in G.nodes()]\n",
    "nx.draw(G, pos, node_size=node_size, node_color=node_color, with_labels=False, alpha=0.5)"
   ]
  },
  {
   "attachments": {},
   "cell_type": "markdown",
   "id": "b098b956",
   "metadata": {},
   "source": [
    "## Network visualization with different node colors based on betweenness centrality"
   ]
  },
  {
   "cell_type": "code",
   "execution_count": null,
   "id": "e660eba2",
   "metadata": {},
   "outputs": [],
   "source": [
    "node_color = [betweenness_centrality[node] for node in G.nodes()]\n",
    "nx.draw(G, pos, node_size=20, node_color=node_color, cmap=plt.cm.Blues, with_labels=False, alpha=0.5)\n",
    "plt.savefig('v-Network visualization with different node colors based on betweenness centrality.png', dpi=400, bbox_inches='tight')"
   ]
  },
  {
   "attachments": {},
   "cell_type": "markdown",
   "id": "4e1111ae",
   "metadata": {},
   "source": [
    "## Network visualization with different node sizes based on eigenvector centrality"
   ]
  },
  {
   "cell_type": "code",
   "execution_count": null,
   "id": "684a3578",
   "metadata": {},
   "outputs": [],
   "source": [
    "node_size = [eigenvector_centrality[node] * 5000 for node in G.nodes()]\n",
    "nx.draw(G, pos, node_size=node_size, node_color=node_color, with_labels=False, alpha=0.5)"
   ]
  },
  {
   "attachments": {},
   "cell_type": "markdown",
   "id": "df33fafe",
   "metadata": {},
   "source": [
    "## Network visualization with different node colors based on closeness centrality"
   ]
  },
  {
   "cell_type": "code",
   "execution_count": null,
   "id": "cdfcff45",
   "metadata": {},
   "outputs": [],
   "source": [
    "node_color = [closeness_centrality[node] for node in G.nodes()]\n",
    "nx.draw(G, pos, node_size=20, node_color=node_color, cmap=plt.cm.Reds, with_labels=False, alpha=0.5)"
   ]
  },
  {
   "attachments": {},
   "cell_type": "markdown",
   "id": "d1445b98",
   "metadata": {},
   "source": [
    "## Network visualization with circular layout"
   ]
  },
  {
   "cell_type": "code",
   "execution_count": null,
   "id": "6341bc38",
   "metadata": {},
   "outputs": [],
   "source": [
    "circular_pos = nx.circular_layout(G)\n",
    "nx.draw(G, circular_pos, node_size=20, node_color=node_color, with_labels=False, alpha=0.5)"
   ]
  },
  {
   "attachments": {},
   "cell_type": "markdown",
   "id": "33e94c46",
   "metadata": {},
   "source": [
    "## Network visualization with shell layout"
   ]
  },
  {
   "cell_type": "code",
   "execution_count": null,
   "id": "5e82c52b",
   "metadata": {},
   "outputs": [],
   "source": [
    "shell_pos = nx.shell_layout(G)\n",
    "nx.draw(G, shell_pos, node_size=20, node_color=node_color, with_labels=False, alpha=0.5)"
   ]
  },
  {
   "attachments": {},
   "cell_type": "markdown",
   "id": "5ddf6864",
   "metadata": {},
   "source": [
    "## Network visualization with spectral layout"
   ]
  },
  {
   "cell_type": "code",
   "execution_count": null,
   "id": "4fb962f4",
   "metadata": {},
   "outputs": [],
   "source": [
    "spectral_pos = nx.spectral_layout(G)\n",
    "nx.draw(G, spectral_pos, node_size=20, node_color=node_color, with_labels=False, alpha=0.5)\n",
    "plt.savefig('v-Network visualization with spectral layout.png', dpi=400, bbox_inches='tight')"
   ]
  },
  {
   "attachments": {},
   "cell_type": "markdown",
   "id": "0cb88dae",
   "metadata": {},
   "source": [
    "## Histogram of degree centrality values"
   ]
  },
  {
   "cell_type": "code",
   "execution_count": null,
   "id": "1fc48421",
   "metadata": {},
   "outputs": [],
   "source": [
    "plt.hist(list(degree_centrality.values()), bins=50, log=True)\n",
    "plt.title(\"Degree Centrality Distribution\")\n",
    "plt.xlabel(\"Degree Centrality\")\n",
    "plt.ylabel(\"Frequency\")\n",
    "plt.savefig('v-Degree Centrality Distribution.png', dpi=400, bbox_inches='tight')\n",
    "plt.show()"
   ]
  },
  {
   "attachments": {},
   "cell_type": "markdown",
   "id": "eee2a18e",
   "metadata": {},
   "source": [
    "## Histogram of betweenness centrality values"
   ]
  },
  {
   "cell_type": "code",
   "execution_count": null,
   "id": "25188a1a",
   "metadata": {},
   "outputs": [],
   "source": [
    "plt.hist(list(betweenness_centrality.values()), bins=50, log=True)\n",
    "plt.title(\"Betweenness Centrality Distribution\")\n",
    "plt.xlabel(\"Betweenness Centrality\")\n",
    "plt.ylabel(\"Frequency\")\n",
    "plt.savefig('v-Betweenness Centrality Distribution.png', dpi=400, bbox_inches='tight')\n",
    "plt.show()"
   ]
  },
  {
   "attachments": {},
   "cell_type": "markdown",
   "id": "51c1a828",
   "metadata": {},
   "source": [
    "## Histogram of closeness centrality values"
   ]
  },
  {
   "cell_type": "code",
   "execution_count": null,
   "id": "cf47de05",
   "metadata": {},
   "outputs": [],
   "source": [
    "plt.hist(list(closeness_centrality.values()), bins=50, log=True)\n",
    "plt.title(\"Closeness Centrality Distribution\")\n",
    "plt.xlabel(\"Closeness Centrality\")\n",
    "plt.ylabel(\"Frequency\")\n",
    "plt.savefig('v-Closeness Centrality Distribution.png', dpi=400, bbox_inches='tight')\n",
    "plt.show()"
   ]
  },
  {
   "attachments": {},
   "cell_type": "markdown",
   "id": "eed6b6a6",
   "metadata": {},
   "source": [
    "## displays findings"
   ]
  },
  {
   "cell_type": "code",
   "execution_count": null,
   "id": "6b837f8b",
   "metadata": {},
   "outputs": [],
   "source": [
    "# Display the number of nodes and edges in the graph\n",
    "print(f\"Number of nodes: {G.number_of_nodes()}\")\n",
    "print(f\"Number of edges: {G.number_of_edges()}\")"
   ]
  },
  {
   "cell_type": "code",
   "execution_count": null,
   "id": "e4e963a7",
   "metadata": {},
   "outputs": [],
   "source": [
    "# Display the average in-degree and out-degree\n",
    "print(f\"Average in-degree: {np.mean(in_degrees):.2f}\")\n",
    "print(f\"Average out-degree: {np.mean(out_degrees):.2f}\")"
   ]
  },
  {
   "cell_type": "code",
   "execution_count": null,
   "id": "67918234",
   "metadata": {},
   "outputs": [],
   "source": [
    "# Calculate and display the number of communities detected by the Louvain method\n",
    "num_communities = len(set(partition.values()))\n",
    "print(f\"Number of communities detected: {num_communities}\")"
   ]
  },
  {
   "cell_type": "code",
   "execution_count": null,
   "id": "b13bd248",
   "metadata": {},
   "outputs": [],
   "source": [
    "# Display the top N nodes for each centrality measure\n",
    "N = 10\n",
    "sorted_degree_centrality = sorted(degree_centrality.items(), key=lambda x: x[1], reverse=True)\n",
    "sorted_betweenness_centrality = sorted(betweenness_centrality.items(), key=lambda x: x[1], reverse=True)\n",
    "sorted_closeness_centrality = sorted(closeness_centrality.items(), key=lambda x: x[1], reverse=True)\n",
    "sorted_eigenvector_centrality = sorted(eigenvector_centrality.items(), key=lambda x: x[1], reverse=True)"
   ]
  },
  {
   "cell_type": "code",
   "execution_count": null,
   "id": "47b264d0",
   "metadata": {},
   "outputs": [],
   "source": [
    "print(f\"\\nTop {N} nodes by degree centrality:\")\n",
    "for node, value in sorted_degree_centrality[:N]:\n",
    "    print(f\"Node {node}: {value:.4f}\")\n",
    "\n",
    "print(f\"\\nTop {N} nodes by betweenness centrality:\")\n",
    "for node, value in sorted_betweenness_centrality[:N]:\n",
    "    print(f\"Node {node}: {value:.4f}\")\n",
    "\n",
    "print(f\"\\nTop {N} nodes by closeness centrality:\")\n",
    "for node, value in sorted_closeness_centrality[:N]:\n",
    "    print(f\"Node {node}: {value:.4f}\")\n",
    "\n",
    "print(f\"\\nTop {N} nodes by eigenvector centrality:\")\n",
    "for node, value in sorted_eigenvector_centrality[:N]:\n",
    "    print(f\"Node {node}: {value:.4f}\")"
   ]
  },
  {
   "cell_type": "code",
   "execution_count": null,
   "id": "31d9b774",
   "metadata": {},
   "outputs": [],
   "source": []
  }
 ],
 "metadata": {
  "kernelspec": {
   "display_name": "Python 3 (ipykernel)",
   "language": "python",
   "name": "python3"
  },
  "language_info": {
   "codemirror_mode": {
    "name": "ipython",
    "version": 3
   },
   "file_extension": ".py",
   "mimetype": "text/x-python",
   "name": "python",
   "nbconvert_exporter": "python",
   "pygments_lexer": "ipython3",
   "version": "3.9.13"
  }
 },
 "nbformat": 4,
 "nbformat_minor": 5
}

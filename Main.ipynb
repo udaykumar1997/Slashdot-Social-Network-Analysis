{
 "cells": [
  {
   "cell_type": "code",
   "execution_count": 1,
   "id": "19e02dba",
   "metadata": {},
   "outputs": [],
   "source": [
    "import pandas as pd\n",
    "import numpy as np\n",
    "import networkx as nx\n",
    "import matplotlib.pyplot as plt\n",
    "import os"
   ]
  },
  {
   "cell_type": "code",
   "execution_count": 2,
   "id": "a7e14ecb",
   "metadata": {},
   "outputs": [],
   "source": [
    "file_path = \"soc-Slashdot0902.txt\"\n",
    "data = pd.read_csv(file_path, sep=\"\\t\", skiprows=4, names=[\"FromNodeId\", \"ToNodeId\"])\n"
   ]
  },
  {
   "cell_type": "code",
   "execution_count": 3,
   "id": "c31657cf",
   "metadata": {},
   "outputs": [],
   "source": [
    "# Create a directed graph\n",
    "G = nx.from_pandas_edgelist(data, source=\"FromNodeId\", target=\"ToNodeId\", create_using=nx.DiGraph)"
   ]
  },
  {
   "cell_type": "code",
   "execution_count": 4,
   "id": "cdf3d99d",
   "metadata": {},
   "outputs": [
    {
     "name": "stdout",
     "output_type": "stream",
     "text": [
      "Number of nodes: 82168\n",
      "Number of edges: 948464\n"
     ]
    }
   ],
   "source": [
    "# Compute basic network statistics\n",
    "num_nodes = G.number_of_nodes()\n",
    "num_edges = G.number_of_edges()\n",
    "print(f\"Number of nodes: {num_nodes}\")\n",
    "print(f\"Number of edges: {num_edges}\")\n"
   ]
  },
  {
   "cell_type": "code",
   "execution_count": 5,
   "id": "5a57fcf7",
   "metadata": {},
   "outputs": [],
   "source": [
    "\n",
    "# Compute degree distribution\n",
    "in_degrees = [d for n, d in G.in_degree()]\n",
    "out_degrees = [d for n, d in G.out_degree()]\n"
   ]
  },
  {
   "cell_type": "code",
   "execution_count": 6,
   "id": "ad9480e0",
   "metadata": {},
   "outputs": [
    {
     "data": {
      "image/png": "[encoded data removed]",
      "text/plain": [
       "<Figure size 432x288 with 1 Axes>"
      ]
     },
     "metadata": {
      "needs_background": "light"
     },
     "output_type": "display_data"
    }
   ],
   "source": [
    "\n",
    "plt.hist(in_degrees, bins=100, log=True)\n",
    "plt.title(\"In-Degree Distribution\")\n",
    "plt.xlabel(\"In-Degree\")\n",
    "plt.ylabel(\"Frequency\")\n",
    "plt.show()\n"
   ]
  },
  {
   "cell_type": "code",
   "execution_count": 7,
   "id": "129b6403",
   "metadata": {},
   "outputs": [
    {
     "data": {
      "image/png": "[encoded data removed]",
      "text/plain": [
       "<Figure size 432x288 with 1 Axes>"
      ]
     },
     "metadata": {
      "needs_background": "light"
     },
     "output_type": "display_data"
    }
   ],
   "source": [
    "\n",
    "plt.hist(out_degrees, bins=100, log=True)\n",
    "plt.title(\"Out-Degree Distribution\")\n",
    "plt.xlabel(\"Out-Degree\")\n",
    "plt.ylabel(\"Frequency\")\n",
    "plt.show()\n"
   ]
  },
  {
   "attachments": {},
   "cell_type": "markdown",
   "id": "3b41e072",
   "metadata": {},
   "source": [
    "## Calculation of clustering coefficient\n",
    "Execution load: upto 2 mins"
   ]
  },
  {
   "cell_type": "code",
   "execution_count": 8,
   "id": "0ac86a5e",
   "metadata": {},
   "outputs": [
    {
     "name": "stdout",
     "output_type": "stream",
     "text": [
      "Average clustering coefficient: 0.05717480710273257\n"
     ]
    }
   ],
   "source": [
    "\n",
    "# Compute average clustering coefficient\n",
    "avg_clustering_coefficient = nx.average_clustering(G)\n",
    "print(f\"Average clustering coefficient: {avg_clustering_coefficient}\")\n",
    "\n"
   ]
  },
  {
   "attachments": {},
   "cell_type": "markdown",
   "id": "59f3a564",
   "metadata": {},
   "source": [
    "Execution load: upto 15 mins"
   ]
  },
  {
   "cell_type": "code",
   "execution_count": 9,
   "id": "a76a33c9",
   "metadata": {},
   "outputs": [],
   "source": [
    "\n",
    "# Compute degree centrality\n",
    "degree_centrality = nx.degree_centrality(G)\n"
   ]
  },
  {
   "cell_type": "code",
   "execution_count": 11,
   "id": "96323f8c",
   "metadata": {},
   "outputs": [],
   "source": [
    "# Compute betweenness centrality (this may take a long time for large graphs)\n",
    "#betweenness_centrality = nx.betweenness_centrality(G)"
   ]
  },
  {
   "cell_type": "code",
   "execution_count": 15,
   "id": "1ca52858",
   "metadata": {},
   "outputs": [
    {
     "ename": "KeyboardInterrupt",
     "evalue": "",
     "output_type": "error",
     "traceback": [
      "\u001b[1;31m---------------------------------------------------------------------------\u001b[0m",
      "\u001b[1;31mKeyboardInterrupt\u001b[0m                         Traceback (most recent call last)",
      "\u001b[1;32mc:\\Users\\udayk\\OneDrive - stevens.edu\\Documents\\GitHub\\Slashdot-Social-Network-Analysis\\Main.ipynb Cell 13\u001b[0m in \u001b[0;36m<cell line: 2>\u001b[1;34m()\u001b[0m\n\u001b[0;32m      <a href='vscode-notebook-cell:/c%3A/Users/udayk/OneDrive%20-%20stevens.edu/Documents/GitHub/Slashdot-Social-Network-Analysis/Main.ipynb#X52sZmlsZQ%3D%3D?line=0'>1</a>\u001b[0m \u001b[39m# Compute closeness centrality\u001b[39;00m\n\u001b[1;32m----> <a href='vscode-notebook-cell:/c%3A/Users/udayk/OneDrive%20-%20stevens.edu/Documents/GitHub/Slashdot-Social-Network-Analysis/Main.ipynb#X52sZmlsZQ%3D%3D?line=1'>2</a>\u001b[0m closeness_centrality \u001b[39m=\u001b[39m nx\u001b[39m.\u001b[39;49mcloseness_centrality(G)\n",
      "File \u001b[1;32mc:\\Users\\udayk\\anaconda3\\lib\\site-packages\\networkx\\algorithms\\centrality\\closeness.py:122\u001b[0m, in \u001b[0;36mcloseness_centrality\u001b[1;34m(G, u, distance, wf_improved)\u001b[0m\n\u001b[0;32m    120\u001b[0m closeness_dict \u001b[39m=\u001b[39m {}\n\u001b[0;32m    121\u001b[0m \u001b[39mfor\u001b[39;00m n \u001b[39min\u001b[39;00m nodes:\n\u001b[1;32m--> 122\u001b[0m     sp \u001b[39m=\u001b[39m path_length(G, n)\n\u001b[0;32m    123\u001b[0m     totsp \u001b[39m=\u001b[39m \u001b[39msum\u001b[39m(sp\u001b[39m.\u001b[39mvalues())\n\u001b[0;32m    124\u001b[0m     len_G \u001b[39m=\u001b[39m \u001b[39mlen\u001b[39m(G)\n",
      "File \u001b[1;32mc:\\Users\\udayk\\anaconda3\\lib\\site-packages\\networkx\\classes\\backends.py:148\u001b[0m, in \u001b[0;36m_dispatch.<locals>.wrapper\u001b[1;34m(*args, **kwds)\u001b[0m\n\u001b[0;32m    144\u001b[0m         \u001b[39melse\u001b[39;00m:\n\u001b[0;32m    145\u001b[0m             \u001b[39mraise\u001b[39;00m NetworkXNotImplemented(\n\u001b[0;32m    146\u001b[0m                 \u001b[39mf\u001b[39m\u001b[39m\"\u001b[39m\u001b[39m'\u001b[39m\u001b[39m{\u001b[39;00mname\u001b[39m}\u001b[39;00m\u001b[39m'\u001b[39m\u001b[39m not implemented by \u001b[39m\u001b[39m{\u001b[39;00mplugin_name\u001b[39m}\u001b[39;00m\u001b[39m\"\u001b[39m\n\u001b[0;32m    147\u001b[0m             )\n\u001b[1;32m--> 148\u001b[0m \u001b[39mreturn\u001b[39;00m func(\u001b[39m*\u001b[39margs, \u001b[39m*\u001b[39m\u001b[39m*\u001b[39mkwds)\n",
      "File \u001b[1;32mc:\\Users\\udayk\\anaconda3\\lib\\site-packages\\networkx\\algorithms\\shortest_paths\\unweighted.py:62\u001b[0m, in \u001b[0;36msingle_source_shortest_path_length\u001b[1;34m(G, source, cutoff)\u001b[0m\n\u001b[0;32m     60\u001b[0m     cutoff \u001b[39m=\u001b[39m \u001b[39mfloat\u001b[39m(\u001b[39m\"\u001b[39m\u001b[39minf\u001b[39m\u001b[39m\"\u001b[39m)\n\u001b[0;32m     61\u001b[0m nextlevel \u001b[39m=\u001b[39m [source]\n\u001b[1;32m---> 62\u001b[0m \u001b[39mreturn\u001b[39;00m \u001b[39mdict\u001b[39;49m(_single_shortest_path_length(G\u001b[39m.\u001b[39;49m_adj, nextlevel, cutoff))\n",
      "File \u001b[1;32mc:\\Users\\udayk\\anaconda3\\lib\\site-packages\\networkx\\algorithms\\shortest_paths\\unweighted.py:91\u001b[0m, in \u001b[0;36m_single_shortest_path_length\u001b[1;34m(adj, firstlevel, cutoff)\u001b[0m\n\u001b[0;32m     89\u001b[0m \u001b[39mfor\u001b[39;00m w \u001b[39min\u001b[39;00m adj[v]:\n\u001b[0;32m     90\u001b[0m     \u001b[39mif\u001b[39;00m w \u001b[39mnot\u001b[39;00m \u001b[39min\u001b[39;00m seen:\n\u001b[1;32m---> 91\u001b[0m         seen\u001b[39m.\u001b[39;49madd(w)\n\u001b[0;32m     92\u001b[0m         nextlevel\u001b[39m.\u001b[39mappend(w)\n\u001b[0;32m     93\u001b[0m         \u001b[39myield\u001b[39;00m (w, level)\n",
      "\u001b[1;31mKeyboardInterrupt\u001b[0m: "
     ]
    }
   ],
   "source": [
    "# Compute closeness centrality\n",
    "closeness_centrality = nx.closeness_centrality(G)"
   ]
  },
  {
   "cell_type": "code",
   "execution_count": 14,
   "id": "c60ed3d7",
   "metadata": {},
   "outputs": [],
   "source": [
    "# Compute eigenvector centrality\n",
    "eigenvector_centrality = nx.eigenvector_centrality(G)"
   ]
  },
  {
   "cell_type": "code",
   "execution_count": null,
   "id": "99e77f72",
   "metadata": {},
   "outputs": [],
   "source": [
    "\n",
    "# Find the top 5 nodes with the highest degree centrality\n",
    "top_degree_centrality = sorted(degree_centrality.items(), key=lambda x: x[1], reverse=True)[:5]\n",
    "print(f\"Top 5 nodes with highest degree centrality: {top_degree_centrality}\")\n",
    "\n",
    "# Find the top 5 nodes with the highest betweenness centrality\n",
    "top_betweenness_centrality = sorted(betweenness_centrality.items(), key=lambda x: x[1], reverse=True)[:5]\n",
    "print(f\"Top 5 nodes with highest betweenness centrality: {top_betweenness_centrality}\")\n",
    "\n",
    "# Find the top 5 nodes with the highest closeness centrality\n",
    "top_closeness_centrality = sorted(closeness_centrality.items(), key=lambda x: x[1], reverse=True)[:5]\n",
    "print(f\"Top 5 nodes with highest closeness centrality: {top_closeness_centrality}\")\n",
    "\n",
    "# Find the top 5 nodes with the highest eigenvector centrality\n",
    "top_eigenvector_centrality = sorted(eigenvector_centrality.items(), key=lambda x: x[1], reverse=True)[:5]\n",
    "print(f\"Top 5 nodes with highest eigenvector centrality: {top_eigenvector_centrality}\")\n"
   ]
  },
  {
   "cell_type": "code",
   "execution_count": null,
   "id": "90257455",
   "metadata": {},
   "outputs": [],
   "source": [
    "# Find all non-existent edges (edges not in the graph)\n",
    "non_edges = list(nx.non_edges(G_undirected))\n",
    "\n",
    "# Compute Jaccard coefficient for all non-existent edges\n",
    "jaccard_coefficient = list(nx.jaccard_coefficient(G_undirected, non_edges))\n",
    "\n",
    "# Compute Adamic-Adar index for all non-existent edges\n",
    "adamic_adar_index = list(nx.adamic_adar_index(G_undirected, non_edges))\n",
    "\n",
    "# Sort edges by Jaccard coefficient\n",
    "sorted_jaccard_coefficient = sorted(jaccard_coefficient, key=lambda x: x[2], reverse=True)\n",
    "\n",
    "# Sort edges by Adamic-Adar index\n",
    "sorted_adamic_adar_index = sorted(adamic_adar_index, key=lambda x: x[2], reverse=True)\n",
    "\n",
    "# Find the top 5 edges with the highest Jaccard coefficient\n",
    "top_jaccard_edges = [(edge[0], edge[1]) for edge in sorted_jaccard_coefficient[:5]]\n",
    "print(f\"Top 5 edges with highest Jaccard coefficient: {top_jaccard_edges}\")\n",
    "\n",
    "# Find the top 5 edges with the highest Adamic-Adar index\n",
    "top_adamic_adar_edges = [(edge[0], edge[1]) for edge in sorted_adamic_adar_index[:5]]\n",
    "print(f\"Top 5 edges with highest Adamic-Adar index: {top_adamic_adar_edges}\")"
   ]
  },
  {
   "cell_type": "code",
   "execution_count": null,
   "id": "599f964e",
   "metadata": {},
   "outputs": [],
   "source": [
    "import seaborn as sns\n",
    "\n",
    "# Plot a heatmap of the adjacency matrix\n",
    "adj_matrix = nx.adjacency_matrix(G_undirected)\n",
    "sns.heatmap(adj_matrix.todense(), cmap=\"YlGnBu\", xticklabels=False, yticklabels=False)\n",
    "plt.title(\"Heatmap of the Adjacency Matrix\")\n",
    "plt.show()\n",
    "\n",
    "# Plot a histogram of the community sizes\n",
    "community_sizes = pd.Series(list(partition.values())).value_counts()\n",
    "plt.hist(community_sizes, bins=30, log=True)\n",
    "plt.title(\"Community Sizes Distribution\")\n",
    "plt.xlabel(\"Community Size\")\n",
    "plt.ylabel(\"Frequency\")\n",
    "plt.show()\n"
   ]
  },
  {
   "cell_type": "code",
   "execution_count": null,
   "id": "8feadc00",
   "metadata": {},
   "outputs": [],
   "source": [
    "# Compute Jaccard similarity for all non-existent edges\n",
    "jaccard_similarity = list(nx.jaccard_coefficient(G_undirected, non_edges))\n",
    "\n",
    "# Sort edges by Jaccard similarity\n",
    "sorted_jaccard_similarity = sorted(jaccard_similarity, key=lambda x: x[2], reverse=True)\n",
    "\n",
    "def recommend_friends(user, top_n=10):\n",
    "    # Find potential friends for the given user\n",
    "    potential_friends = [(edge[1], similarity) for edge, similarity in sorted_jaccard_similarity if edge[0] == user]\n",
    "    \n",
    "    # Return the top N recommendations\n",
    "    return potential_friends[:top_n]\n",
    "\n",
    "# Test the recommendation system for a specific user\n",
    "user_id = 42  # Replace with desired user ID\n",
    "top_n_recommendations = 10\n",
    "recommended_friends = recommend_friends(user_id, top_n=top_n_recommendations)\n",
    "print(f\"Top {top_n_recommendations} friend recommendations for user {user_id}: {recommended_friends}\")\n"
   ]
  }
 ],
 "metadata": {
  "kernelspec": {
   "display_name": "Python 3 (ipykernel)",
   "language": "python",
   "name": "python3"
  },
  "language_info": {
   "codemirror_mode": {
    "name": "ipython",
    "version": 3
   },
   "file_extension": ".py",
   "mimetype": "text/x-python",
   "name": "python",
   "nbconvert_exporter": "python",
   "pygments_lexer": "ipython3",
   "version": "3.9.13"
  }
 },
 "nbformat": 4,
 "nbformat_minor": 5
}

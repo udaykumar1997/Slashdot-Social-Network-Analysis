{
 "cells": [
  {
   "cell_type": "code",
   "execution_count": 1,
   "id": "19e02dba",
   "metadata": {},
   "outputs": [],
   "source": [
    "import pandas as pd\n",
    "import numpy as np\n",
    "import networkx as nx\n",
    "import matplotlib.pyplot as plt\n",
    "import os\n",
    "import random"
   ]
  },
  {
   "cell_type": "code",
   "execution_count": 2,
   "id": "a7e14ecb",
   "metadata": {},
   "outputs": [],
   "source": [
    "file_path = \"soc-Slashdot0902.txt\"\n",
    "subset_percentage = 0.1\n",
    "data = []"
   ]
  },
  {
   "cell_type": "code",
   "execution_count": 3,
   "id": "4c8abd95",
   "metadata": {},
   "outputs": [],
   "source": [
    "with open(file_path, 'r') as f:\n",
    "    # Skip the first 4 lines (header)\n",
    "    for _ in range(4):\n",
    "        next(f)\n",
    "\n",
    "    # Read and process lines, selecting a percentage randomly\n",
    "    for line in f:\n",
    "        if random.random() < subset_percentage:\n",
    "            source, target = map(int, line.strip().split(\"\\t\"))\n",
    "            data.append({\"FromNodeId\": source, \"ToNodeId\": target})"
   ]
  },
  {
   "attachments": {},
   "cell_type": "markdown",
   "id": "c2a8385c",
   "metadata": {},
   "source": [
    "## Preprocessing and creation of a NetworkX directed graph"
   ]
  },
  {
   "cell_type": "code",
   "execution_count": 4,
   "id": "17f4386a",
   "metadata": {},
   "outputs": [
    {
     "name": "stdout",
     "output_type": "stream",
     "text": [
      "   FromNodeId  ToNodeId\n",
      "0           0        55\n",
      "1           0        58\n",
      "2           0        79\n",
      "3           0        86\n",
      "4           0       123\n"
     ]
    }
   ],
   "source": [
    "# Convert the list of dictionaries to a pandas DataFrame\n",
    "data = pd.DataFrame(data)\n",
    "\n",
    "# Display the first few rows\n",
    "print(data.head())"
   ]
  },
  {
   "cell_type": "code",
   "execution_count": 5,
   "id": "3d3187d0",
   "metadata": {},
   "outputs": [],
   "source": [
    "# Create a directed graph from the DataFrame\n",
    "G = nx.from_pandas_edgelist(data, source=\"FromNodeId\", target=\"ToNodeId\", create_using=nx.DiGraph())"
   ]
  },
  {
   "attachments": {},
   "cell_type": "markdown",
   "id": "371389cd",
   "metadata": {},
   "source": [
    "## Some Exploratory Data Analysis (EDA) on the graph"
   ]
  },
  {
   "cell_type": "code",
   "execution_count": 6,
   "id": "ba0fdb9e",
   "metadata": {},
   "outputs": [
    {
     "name": "stdout",
     "output_type": "stream",
     "text": [
      "Number of nodes: 42675\n",
      "Number of edges: 94463\n"
     ]
    }
   ],
   "source": [
    "# Basic EDA\n",
    "print(f\"Number of nodes: {G.number_of_nodes()}\")\n",
    "print(f\"Number of edges: {G.number_of_edges()}\")"
   ]
  },
  {
   "cell_type": "code",
   "execution_count": 7,
   "id": "0be6071a",
   "metadata": {},
   "outputs": [],
   "source": [
    "# Degree distributions\n",
    "in_degrees = [d for n, d in G.in_degree()]\n",
    "out_degrees = [d for n, d in G.out_degree()]"
   ]
  },
  {
   "cell_type": "code",
   "execution_count": 8,
   "id": "c9ad461f",
   "metadata": {},
   "outputs": [
    {
     "name": "stdout",
     "output_type": "stream",
     "text": [
      "Average in-degree: 2.21\n",
      "Average out-degree: 2.21\n"
     ]
    }
   ],
   "source": [
    "print(f\"Average in-degree: {np.mean(in_degrees):.2f}\")\n",
    "print(f\"Average out-degree: {np.mean(out_degrees):.2f}\")"
   ]
  },
  {
   "cell_type": "code",
   "execution_count": 9,
   "id": "d20fba13",
   "metadata": {},
   "outputs": [
    {
     "data": {
      "image/png": "[encoded data removed]",
      "text/plain": [
       "<Figure size 432x288 with 1 Axes>"
      ]
     },
     "metadata": {
      "needs_background": "light"
     },
     "output_type": "display_data"
    }
   ],
   "source": [
    "# Plot degree distributions\n",
    "plt.hist(in_degrees, bins=50, log=True)\n",
    "plt.title(\"In-degree Distribution\")\n",
    "plt.xlabel(\"In-degree\")\n",
    "plt.ylabel(\"Frequency\")\n",
    "plt.savefig(\"in_degree_distribution.png\", dpi=300,bbox_inches='tight')\n",
    "plt.show()"
   ]
  },
  {
   "cell_type": "code",
   "execution_count": 10,
   "id": "1e50e511",
   "metadata": {},
   "outputs": [
    {
     "data": {
      "image/png": "[encoded data removed]",
      "text/plain": [
       "<Figure size 432x288 with 1 Axes>"
      ]
     },
     "metadata": {
      "needs_background": "light"
     },
     "output_type": "display_data"
    }
   ],
   "source": [
    "plt.hist(out_degrees, bins=50, log=True)\n",
    "plt.title(\"Out-degree Distribution\")\n",
    "plt.xlabel(\"Out-degree\")\n",
    "plt.ylabel(\"Frequency\")\n",
    "plt.savefig('out_degree_distribution.png', dpi=300,bbox_inches='tight')\n",
    "plt.show()"
   ]
  },
  {
   "attachments": {},
   "cell_type": "markdown",
   "id": "c4da8ff1",
   "metadata": {},
   "source": [
    "## Detection of communities using the Louvain method"
   ]
  },
  {
   "cell_type": "code",
   "execution_count": 11,
   "id": "446bd165",
   "metadata": {},
   "outputs": [],
   "source": [
    "import community as community_louvain"
   ]
  },
  {
   "cell_type": "code",
   "execution_count": 12,
   "id": "3561da08",
   "metadata": {},
   "outputs": [
    {
     "ename": "AttributeError",
     "evalue": "module 'community' has no attribute 'best_partition'",
     "output_type": "error",
     "traceback": [
      "\u001b[1;31m---------------------------------------------------------------------------\u001b[0m",
      "\u001b[1;31mAttributeError\u001b[0m                            Traceback (most recent call last)",
      "\u001b[1;32mc:\\Users\\udayk\\OneDrive - stevens.edu\\Documents\\GitHub\\Slashdot-Social-Network-Analysis\\Main.ipynb Cell 15\u001b[0m in \u001b[0;36m<cell line: 2>\u001b[1;34m()\u001b[0m\n\u001b[0;32m      <a href='vscode-notebook-cell:/c%3A/Users/udayk/OneDrive%20-%20stevens.edu/Documents/GitHub/Slashdot-Social-Network-Analysis/Main.ipynb#X51sZmlsZQ%3D%3D?line=0'>1</a>\u001b[0m undirected_G \u001b[39m=\u001b[39m G\u001b[39m.\u001b[39mto_undirected()\n\u001b[1;32m----> <a href='vscode-notebook-cell:/c%3A/Users/udayk/OneDrive%20-%20stevens.edu/Documents/GitHub/Slashdot-Social-Network-Analysis/Main.ipynb#X51sZmlsZQ%3D%3D?line=1'>2</a>\u001b[0m partition \u001b[39m=\u001b[39m community_louvain\u001b[39m.\u001b[39;49mbest_partition(undirected_G)\n",
      "\u001b[1;31mAttributeError\u001b[0m: module 'community' has no attribute 'best_partition'"
     ]
    }
   ],
   "source": [
    "undirected_G = G.to_undirected()\n",
    "partition = community_louvain.best_partition(undirected_G)"
   ]
  },
  {
   "cell_type": "code",
   "execution_count": null,
   "id": "4491ddc4",
   "metadata": {},
   "outputs": [],
   "source": [
    "# Add community labels as node attributes\n",
    "nx.set_node_attributes(G, partition, \"community\")"
   ]
  },
  {
   "attachments": {},
   "cell_type": "markdown",
   "id": "94369685",
   "metadata": {},
   "source": [
    "# Computing centrality measures for the nodes in the graph"
   ]
  },
  {
   "cell_type": "code",
   "execution_count": 13,
   "id": "7cb03662",
   "metadata": {},
   "outputs": [],
   "source": [
    "degree_centrality = nx.degree_centrality(G)"
   ]
  },
  {
   "cell_type": "markdown",
   "id": "bb2574fb",
   "metadata": {},
   "source": [
    "Disclaimer: the following block of code could get compute intensive, execute with vaution"
   ]
  },
  {
   "cell_type": "code",
   "execution_count": 14,
   "id": "64221d12",
   "metadata": {},
   "outputs": [],
   "source": [
    "betweenness_centrality = nx.betweenness_centrality(G)"
   ]
  },
  {
   "cell_type": "code",
   "execution_count": null,
   "id": "28c8a59d",
   "metadata": {},
   "outputs": [],
   "source": [
    "closeness_centrality = nx.closeness_centrality(G)"
   ]
  },
  {
   "cell_type": "code",
   "execution_count": null,
   "id": "1ac78825",
   "metadata": {},
   "outputs": [],
   "source": [
    "eigenvector_centrality = nx.eigenvector_centrality(G)"
   ]
  },
  {
   "cell_type": "code",
   "execution_count": null,
   "id": "7d2e1b69",
   "metadata": {},
   "outputs": [],
   "source": [
    "# Add centrality measures as node attributes\n",
    "nx.set_node_attributes(G, degree_centrality, \"degree_centrality\")\n",
    "nx.set_node_attributes(G, betweenness_centrality, \"betweenness_centrality\")\n",
    "nx.set_node_attributes(G, closeness_centrality, \"closeness_centrality\")\n",
    "nx.set_node_attributes(G, eigenvector_centrality, \"eigenvector_centrality\")"
   ]
  }
 ],
 "metadata": {
  "kernelspec": {
   "display_name": "Python 3 (ipykernel)",
   "language": "python",
   "name": "python3"
  },
  "language_info": {
   "codemirror_mode": {
    "name": "ipython",
    "version": 3
   },
   "file_extension": ".py",
   "mimetype": "text/x-python",
   "name": "python",
   "nbconvert_exporter": "python",
   "pygments_lexer": "ipython3",
   "version": "3.9.12"
  }
 },
 "nbformat": 4,
 "nbformat_minor": 5
}

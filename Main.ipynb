{
 "cells": [
  {
   "cell_type": "code",
   "execution_count": 1,
   "id": "19e02dba",
   "metadata": {},
   "outputs": [],
   "source": [
    "import pandas as pd\n",
    "import numpy as np\n",
    "import networkx as nx\n",
    "import matplotlib.pyplot as plt\n",
    "import os\n",
    "import random"
   ]
  },
  {
   "cell_type": "code",
   "execution_count": 2,
   "id": "a7e14ecb",
   "metadata": {},
   "outputs": [],
   "source": [
    "file_path = \"soc-Slashdot0902.txt\"\n",
    "subset_percentage = 0.3\n",
    "data = []"
   ]
  },
  {
   "cell_type": "code",
   "execution_count": 3,
   "id": "4c8abd95",
   "metadata": {},
   "outputs": [],
   "source": [
    "with open(file_path, 'r') as f:\n",
    "    # Skip the first 4 lines (header)\n",
    "    for _ in range(4):\n",
    "        next(f)\n",
    "\n",
    "    # Read and process lines, selecting a percentage randomly\n",
    "    for line in f:\n",
    "        if random.random() < subset_percentage:\n",
    "            source, target = map(int, line.strip().split(\"\\t\"))\n",
    "            data.append({\"FromNodeId\": source, \"ToNodeId\": target})"
   ]
  },
  {
   "cell_type": "code",
   "execution_count": 5,
   "id": "17f4386a",
   "metadata": {},
   "outputs": [
    {
     "name": "stdout",
     "output_type": "stream",
     "text": [
      "   FromNodeId  ToNodeId\n",
      "0           0         0\n",
      "1           0         1\n",
      "2           0         3\n",
      "3           0         6\n",
      "4           0        13\n"
     ]
    }
   ],
   "source": [
    "# Convert the list of dictionaries to a pandas DataFrame\n",
    "data = pd.DataFrame(data)\n",
    "\n",
    "# Display the first few rows\n",
    "print(data.head())"
   ]
  },
  {
   "cell_type": "code",
   "execution_count": null,
   "id": "3d3187d0",
   "metadata": {},
   "outputs": [],
   "source": []
  },
  {
   "cell_type": "code",
   "execution_count": null,
   "id": "ba0fdb9e",
   "metadata": {},
   "outputs": [],
   "source": []
  },
  {
   "cell_type": "code",
   "execution_count": null,
   "id": "c4da8ff1",
   "metadata": {},
   "outputs": [],
   "source": []
  }
 ],
 "metadata": {
  "kernelspec": {
   "display_name": "Python 3 (ipykernel)",
   "language": "python",
   "name": "python3"
  },
  "language_info": {
   "codemirror_mode": {
    "name": "ipython",
    "version": 3
   },
   "file_extension": ".py",
   "mimetype": "text/x-python",
   "name": "python",
   "nbconvert_exporter": "python",
   "pygments_lexer": "ipython3",
   "version": "3.9.12"
  }
 },
 "nbformat": 4,
 "nbformat_minor": 5
}
